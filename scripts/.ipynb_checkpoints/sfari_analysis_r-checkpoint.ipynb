{
 "cells": [
  {
   "cell_type": "code",
   "execution_count": 12,
   "metadata": {},
   "outputs": [
    {
     "name": "stdout",
     "output_type": "stream",
     "text": [
      "[1] \"loaded\"\n"
     ]
    }
   ],
   "source": [
    "#load libs\n",
    "library(ggplot2)\n",
    "library(gridExtra)\n",
    "library(cowplot)\n",
    "theme_set(theme_cowplot())\n",
    "library(fitdistrplus)\n",
    "library(readr)\n",
    "library(tibble)\n",
    "library(dplyr)\n",
    "library(ANOVAreplication)\n",
    "library(svglite)\n",
    "print(\"loaded\")"
   ]
  },
  {
   "cell_type": "code",
   "execution_count": null,
   "metadata": {},
   "outputs": [],
   "source": [
    "#read in data and split the probands from sibs\n",
    "sv_info=read.csv(\"../data/dnsv_dataframe.csv\", header=TRUE, sep=\",\")\n",
    "sv_info$status = recode(sv_info$role, \"sib\"=\"Unaffected\",\"proband\"=\"Probands\", \"mother\"=\"Unaffected\",\"father\"=\"Unaffected\")\n",
    "\n",
    "sv_info = sv_info[(sv_info$father != \".\") & (sv_info$mother != \".\") ,]\n",
    "sv_info = sv_info[(sv_info$father_age_birth_years >0) & (sv_info$mother_age_birth_years >0),]\n",
    "sv_info$father_age_birth_years = as.integer(sv_info$father_age_birth_years)\n",
    "sv_info$mother_age_birth_years = as.integer(sv_info$mother_age_birth_years)\n",
    "sv_info$has_dnSV = factor(sv_info$all_sv > 0)\n",
    "sv_info$dnSV = factor(sv_info$all_sv>0)\n"
   ]
  }
 ],
 "metadata": {
  "kernelspec": {
   "display_name": "R",
   "language": "R",
   "name": "ir"
  },
  "language_info": {
   "codemirror_mode": "r",
   "file_extension": ".r",
   "mimetype": "text/x-r-source",
   "name": "R",
   "pygments_lexer": "r",
   "version": "3.5.1"
  }
 },
 "nbformat": 4,
 "nbformat_minor": 4
}
